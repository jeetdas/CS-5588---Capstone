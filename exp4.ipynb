{
  "nbformat": 4,
  "nbformat_minor": 0,
  "metadata": {
    "colab": {
      "provenance": []
    },
    "kernelspec": {
      "name": "python3",
      "display_name": "Python 3"
    },
    "language_info": {
      "name": "python"
    }
  },
  "cells": [
    {
      "cell_type": "code",
      "execution_count": null,
      "metadata": {
        "colab": {
          "base_uri": "https://localhost:8080/"
        },
        "id": "ilUomPCaiOS_",
        "outputId": "0e824012-9329-4eb6-d32a-14bf841c8182"
      },
      "outputs": [
        {
          "output_type": "stream",
          "name": "stdout",
          "text": [
            "Collecting tiktoken\n",
            "  Downloading tiktoken-0.5.1-cp310-cp310-manylinux_2_17_x86_64.manylinux2014_x86_64.whl (2.0 MB)\n",
            "\u001b[?25l     \u001b[90m━━━━━━━━━━━━━━━━━━━━━━━━━━━━━━━━━━━━━━━━\u001b[0m \u001b[32m0.0/2.0 MB\u001b[0m \u001b[31m?\u001b[0m eta \u001b[36m-:--:--\u001b[0m\r\u001b[2K     \u001b[91m━━━\u001b[0m\u001b[90m╺\u001b[0m\u001b[90m━━━━━━━━━━━━━━━━━━━━━━━━━━━━━━━━━━━━\u001b[0m \u001b[32m0.2/2.0 MB\u001b[0m \u001b[31m4.6 MB/s\u001b[0m eta \u001b[36m0:00:01\u001b[0m\r\u001b[2K     \u001b[91m━━━━━━━━━━━━━━━━━━━━━━━━━━━━━━━━━\u001b[0m\u001b[91m╸\u001b[0m\u001b[90m━━━━━━\u001b[0m \u001b[32m1.7/2.0 MB\u001b[0m \u001b[31m24.1 MB/s\u001b[0m eta \u001b[36m0:00:01\u001b[0m\r\u001b[2K     \u001b[90m━━━━━━━━━━━━━━━━━━━━━━━━━━━━━━━━━━━━━━━━\u001b[0m \u001b[32m2.0/2.0 MB\u001b[0m \u001b[31m23.4 MB/s\u001b[0m eta \u001b[36m0:00:00\u001b[0m\n",
            "\u001b[?25hRequirement already satisfied: regex>=2022.1.18 in /usr/local/lib/python3.10/dist-packages (from tiktoken) (2023.6.3)\n",
            "Requirement already satisfied: requests>=2.26.0 in /usr/local/lib/python3.10/dist-packages (from tiktoken) (2.31.0)\n",
            "Requirement already satisfied: charset-normalizer<4,>=2 in /usr/local/lib/python3.10/dist-packages (from requests>=2.26.0->tiktoken) (3.3.0)\n",
            "Requirement already satisfied: idna<4,>=2.5 in /usr/local/lib/python3.10/dist-packages (from requests>=2.26.0->tiktoken) (3.4)\n",
            "Requirement already satisfied: urllib3<3,>=1.21.1 in /usr/local/lib/python3.10/dist-packages (from requests>=2.26.0->tiktoken) (2.0.6)\n",
            "Requirement already satisfied: certifi>=2017.4.17 in /usr/local/lib/python3.10/dist-packages (from requests>=2.26.0->tiktoken) (2023.7.22)\n",
            "Installing collected packages: tiktoken\n",
            "Successfully installed tiktoken-0.5.1\n"
          ]
        }
      ],
      "source": [
        "pip install tiktoken"
      ]
    },
    {
      "cell_type": "code",
      "source": [
        "import tiktoken"
      ],
      "metadata": {
        "id": "nAAVHxrdibPp"
      },
      "execution_count": null,
      "outputs": []
    },
    {
      "cell_type": "code",
      "source": [
        "enc = tiktoken.encoding_for_model('gpt-4')"
      ],
      "metadata": {
        "id": "PM9AnKa_iWUS"
      },
      "execution_count": null,
      "outputs": []
    },
    {
      "cell_type": "code",
      "source": [
        "enc.encode(\"Hello world\")"
      ],
      "metadata": {
        "colab": {
          "base_uri": "https://localhost:8080/"
        },
        "id": "yIyvTdS2idz1",
        "outputId": "59010e2e-6eca-48ca-96ee-32e72abdd966"
      },
      "execution_count": null,
      "outputs": [
        {
          "output_type": "execute_result",
          "data": {
            "text/plain": [
              "[9906, 1917]"
            ]
          },
          "metadata": {},
          "execution_count": 5
        }
      ]
    },
    {
      "cell_type": "code",
      "source": [
        "enc1 = tiktoken.get_encoding(\"cl100k_base\")\n",
        "enc1.encode(\"Hello world\")"
      ],
      "metadata": {
        "colab": {
          "base_uri": "https://localhost:8080/"
        },
        "id": "0N0Ar0cOirXa",
        "outputId": "9a97dee2-ee86-4aa7-d3f4-a2d92b71196a"
      },
      "execution_count": null,
      "outputs": [
        {
          "output_type": "execute_result",
          "data": {
            "text/plain": [
              "[9906, 1917]"
            ]
          },
          "metadata": {},
          "execution_count": 6
        }
      ]
    },
    {
      "cell_type": "code",
      "source": [
        "token_bytes = [enc1.decode_single_token_bytes(token) for token in enc1.encode(\"Hello world\")]\n",
        "print(token_bytes)"
      ],
      "metadata": {
        "colab": {
          "base_uri": "https://localhost:8080/"
        },
        "id": "91r8Af0vlaGr",
        "outputId": "534bee4d-952e-46b5-8152-88fc4a5bcc6a"
      },
      "execution_count": null,
      "outputs": [
        {
          "output_type": "stream",
          "name": "stdout",
          "text": [
            "[b'Hello', b' world']\n"
          ]
        }
      ]
    },
    {
      "cell_type": "code",
      "source": [
        "mmd_filename = \"ASCE_7-16_56-60.mmd\"\n",
        "mmd_file = open(mmd_filename, \"r\")\n",
        "mmd_text = mmd_file.read()\n",
        "print(mmd_text[:1000])"
      ],
      "metadata": {
        "colab": {
          "base_uri": "https://localhost:8080/"
        },
        "id": "ogs5Ba1GVh0Y",
        "outputId": "fa53d1b9-bd1a-40e1-8ef2-5149121bd93d"
      },
      "execution_count": null,
      "outputs": [
        {
          "output_type": "stream",
          "name": "stdout",
          "text": [
            "## Chapter 1 General\n",
            "\n",
            "### 1.1 _Scope_\n",
            "\n",
            "This standard provides minimum loads, hazard levels, associated criteria, and intended performance goals for buildings, other structures, and their nonstructural components that are subject to building code requirements. The loads, load combinations, and associated criteria provided herein are to be used with design strengths or allowable stress limits contained in design specifications for conventional structural materials. Used together, they are deemed capable of providing the intended performance levels for which the provisions of this standard have been developed. Procedures for applying alternative means to demonstrate acceptable performance are also described.\n",
            "\n",
            "### 1.2 _Definitions and Symbols_\n",
            "\n",
            "#### Definitions\n",
            "\n",
            "The following definitions apply to the provisions of the entire standard.\n",
            "\n",
            "**ALLOWABLE STRESS DESIGN:** A method of proportioning structural members such that elastically computed stresses produced in the members by nominal loads d\n"
          ]
        }
      ]
    },
    {
      "cell_type": "code",
      "source": [
        "enc = tiktoken.get_encoding(\"cl100k_base\")"
      ],
      "metadata": {
        "id": "5lgnHJMJVyvr"
      },
      "execution_count": null,
      "outputs": []
    },
    {
      "cell_type": "code",
      "source": [
        "encoded_words = enc.encode(mmd_text[:1000])\n",
        "token_bytes = [enc.decode_single_token_bytes(token) for token in encoded_words]"
      ],
      "metadata": {
        "id": "LJRk1hU4V-OW"
      },
      "execution_count": null,
      "outputs": []
    },
    {
      "cell_type": "code",
      "source": [
        "for i in range(len(encoded_words)):\n",
        "  print(token_bytes[i], \" -> \", encoded_words[i])"
      ],
      "metadata": {
        "colab": {
          "base_uri": "https://localhost:8080/"
        },
        "id": "xg-emQu1WPuG",
        "outputId": "678568dc-8738-4d5b-ab8b-24d433035578"
      },
      "execution_count": null,
      "outputs": [
        {
          "output_type": "stream",
          "name": "stdout",
          "text": [
            "b'##'  ->  567\n",
            "b' Chapter'  ->  15957\n",
            "b' '  ->  220\n",
            "b'1'  ->  16\n",
            "b' General'  ->  3331\n",
            "b'\\n\\n'  ->  271\n",
            "b'###'  ->  14711\n",
            "b' '  ->  220\n",
            "b'1'  ->  16\n",
            "b'.'  ->  13\n",
            "b'1'  ->  16\n",
            "b' _'  ->  721\n",
            "b'Scope'  ->  11037\n",
            "b'_\\n\\n'  ->  19327\n",
            "b'This'  ->  2028\n",
            "b' standard'  ->  5410\n",
            "b' provides'  ->  5825\n",
            "b' minimum'  ->  8187\n",
            "b' loads'  ->  21577\n",
            "b','  ->  11\n",
            "b' hazard'  ->  31397\n",
            "b' levels'  ->  5990\n",
            "b','  ->  11\n",
            "b' associated'  ->  5938\n",
            "b' criteria'  ->  13186\n",
            "b','  ->  11\n",
            "b' and'  ->  323\n",
            "b' intended'  ->  10825\n",
            "b' performance'  ->  5178\n",
            "b' goals'  ->  9021\n",
            "b' for'  ->  369\n",
            "b' buildings'  ->  14016\n",
            "b','  ->  11\n",
            "b' other'  ->  1023\n",
            "b' structures'  ->  14726\n",
            "b','  ->  11\n",
            "b' and'  ->  323\n",
            "b' their'  ->  872\n",
            "b' non'  ->  2536\n",
            "b'structural'  ->  96797\n",
            "b' components'  ->  6956\n",
            "b' that'  ->  430\n",
            "b' are'  ->  527\n",
            "b' subject'  ->  3917\n",
            "b' to'  ->  311\n",
            "b' building'  ->  4857\n",
            "b' code'  ->  2082\n",
            "b' requirements'  ->  8670\n",
            "b'.'  ->  13\n",
            "b' The'  ->  578\n",
            "b' loads'  ->  21577\n",
            "b','  ->  11\n",
            "b' load'  ->  2865\n",
            "b' combinations'  ->  28559\n",
            "b','  ->  11\n",
            "b' and'  ->  323\n",
            "b' associated'  ->  5938\n",
            "b' criteria'  ->  13186\n",
            "b' provided'  ->  3984\n",
            "b' herein'  ->  36881\n",
            "b' are'  ->  527\n",
            "b' to'  ->  311\n",
            "b' be'  ->  387\n",
            "b' used'  ->  1511\n",
            "b' with'  ->  449\n",
            "b' design'  ->  2955\n",
            "b' strengths'  ->  36486\n",
            "b' or'  ->  477\n",
            "b' allowable'  ->  85852\n",
            "b' stress'  ->  8631\n",
            "b' limits'  ->  13693\n",
            "b' contained'  ->  13282\n",
            "b' in'  ->  304\n",
            "b' design'  ->  2955\n",
            "b' specifications'  ->  29803\n",
            "b' for'  ->  369\n",
            "b' conventional'  ->  21349\n",
            "b' structural'  ->  24693\n",
            "b' materials'  ->  7384\n",
            "b'.'  ->  13\n",
            "b' Used'  ->  12477\n",
            "b' together'  ->  3871\n",
            "b','  ->  11\n",
            "b' they'  ->  814\n",
            "b' are'  ->  527\n",
            "b' deemed'  ->  25660\n",
            "b' capable'  ->  13171\n",
            "b' of'  ->  315\n",
            "b' providing'  ->  8405\n",
            "b' the'  ->  279\n",
            "b' intended'  ->  10825\n",
            "b' performance'  ->  5178\n",
            "b' levels'  ->  5990\n",
            "b' for'  ->  369\n",
            "b' which'  ->  902\n",
            "b' the'  ->  279\n",
            "b' provisions'  ->  19705\n",
            "b' of'  ->  315\n",
            "b' this'  ->  420\n",
            "b' standard'  ->  5410\n",
            "b' have'  ->  617\n",
            "b' been'  ->  1027\n",
            "b' developed'  ->  8040\n",
            "b'.'  ->  13\n",
            "b' Procedures'  ->  75111\n",
            "b' for'  ->  369\n",
            "b' applying'  ->  19486\n",
            "b' alternative'  ->  10778\n",
            "b' means'  ->  3445\n",
            "b' to'  ->  311\n",
            "b' demonstrate'  ->  20461\n",
            "b' acceptable'  ->  22281\n",
            "b' performance'  ->  5178\n",
            "b' are'  ->  527\n",
            "b' also'  ->  1101\n",
            "b' described'  ->  7633\n",
            "b'.\\n\\n'  ->  382\n",
            "b'###'  ->  14711\n",
            "b' '  ->  220\n",
            "b'1'  ->  16\n",
            "b'.'  ->  13\n",
            "b'2'  ->  17\n",
            "b' _'  ->  721\n",
            "b'Definitions'  ->  51642\n",
            "b' and'  ->  323\n",
            "b' Symbols'  ->  84680\n",
            "b'_\\n\\n'  ->  19327\n",
            "b'####'  ->  827\n",
            "b' Definitions'  ->  47613\n",
            "b'\\n\\n'  ->  271\n",
            "b'The'  ->  791\n",
            "b' following'  ->  2768\n",
            "b' definitions'  ->  17931\n",
            "b' apply'  ->  3881\n",
            "b' to'  ->  311\n",
            "b' the'  ->  279\n",
            "b' provisions'  ->  19705\n",
            "b' of'  ->  315\n",
            "b' the'  ->  279\n",
            "b' entire'  ->  4553\n",
            "b' standard'  ->  5410\n",
            "b'.\\n\\n'  ->  382\n",
            "b'**'  ->  334\n",
            "b'ALLOW'  ->  54425\n",
            "b'ABLE'  ->  3578\n",
            "b' ST'  ->  4015\n",
            "b'RESS'  ->  7973\n",
            "b' DESIGN'  ->  68343\n",
            "b':**'  ->  68063\n",
            "b' A'  ->  362\n",
            "b' method'  ->  1749\n",
            "b' of'  ->  315\n",
            "b' proportion'  ->  21801\n",
            "b'ing'  ->  287\n",
            "b' structural'  ->  24693\n",
            "b' members'  ->  3697\n",
            "b' such'  ->  1778\n",
            "b' that'  ->  430\n",
            "b' el'  ->  658\n",
            "b'astically'  ->  36419\n",
            "b' computed'  ->  25157\n",
            "b' stresses'  ->  59623\n",
            "b' produced'  ->  9124\n",
            "b' in'  ->  304\n",
            "b' the'  ->  279\n",
            "b' members'  ->  3697\n",
            "b' by'  ->  555\n",
            "b' nominal'  ->  47855\n",
            "b' loads'  ->  21577\n",
            "b' d'  ->  294\n"
          ]
        }
      ]
    }
  ]
}